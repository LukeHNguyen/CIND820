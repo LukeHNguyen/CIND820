{
 "cells": [
  {
   "cell_type": "code",
   "execution_count": 14,
   "metadata": {},
   "outputs": [],
   "source": [
    "import pandas as pd\n",
    "from sklearn.experimental import enable_iterative_imputer\n",
    "from sklearn.impute import IterativeImputer\n",
    "from sklearn.linear_model import LinearRegression\n",
    "import pandas as pd\n",
    "import numpy as np\n",
    "import matplotlib.pyplot as plt\n",
    "\n",
    "# Load the dataset\n",
    "file_path = r'D:\\00. MSc Data Analytic\\CIND820\\Data\\Crop data\\Final_Data.xlsx'\n",
    "crop_data = pd.read_excel(file_path, sheet_name='Crop')\n",
    "weather_data = pd.read_excel(file_path, sheet_name='Weather')\n",
    "\n",
    "# Remove unneeded columns\n",
    "columns_to_keep = [\n",
    "    'County', 'Year', 'Month', 'Day',\n",
    "    'Max Temp (°C)', 'Min Temp (°C)', 'Mean Temp (°C)',\n",
    "    'Heat Deg Days (°C)', 'Total Rain (mm)', 'Total Snow (cm)',\n",
    "    'Total Precip (mm)', 'Snow on Grnd (cm)', 'Spd of Max Gust (km/h)'\n",
    "]\n",
    "weather_data = weather_data[columns_to_keep]\n",
    "\n",
    "# Remove rows where 'Max Temp (°C)', 'Min Temp (°C)', and 'Mean Temp (°C)' are all null\n",
    "weather_data = weather_data.dropna(subset=['Max Temp (°C)', 'Min Temp (°C)', 'Mean Temp (°C)'], how='all')\n",
    "\n",
    "# Perform regression imputation\n",
    "imputer_columns = ['Max Temp (°C)', 'Min Temp (°C)', 'Mean Temp (°C)', 'Heat Deg Days (°C)', 'Total Rain (mm)', 'Total Precip (mm)', 'Spd of Max Gust (km/h)']\n",
    "imputer = IterativeImputer(estimator=LinearRegression(), random_state=0, max_iter=200)\n",
    "imputed_data = imputer.fit_transform(weather_data[imputer_columns])\n",
    "imputed_df = pd.DataFrame(imputed_data, columns=imputer_columns)\n",
    "imputed_weather_data = pd.concat([weather_data[['County', 'Year', 'Month', 'Day', 'Total Snow (cm)', 'Snow on Grnd (cm)']], imputed_df], axis=1)\n",
    "\n",
    "# Replace negative values with 0 in specified columns\n",
    "imputed_weather_data[['Total Rain (mm)', 'Total Precip (mm)', 'Spd of Max Gust (km/h)']] = imputed_weather_data[['Total Rain (mm)', 'Total Precip (mm)', 'Spd of Max Gust (km/h)']].clip(lower=0)"
   ]
  },
  {
   "cell_type": "code",
   "execution_count": 15,
   "metadata": {},
   "outputs": [],
   "source": [
    "# Remove rows with outliers in specified columns\n",
    "def remove_outliers(column):\n",
    "    Q1 = column.quantile(0.25)\n",
    "    Q3 = column.quantile(0.75)\n",
    "    IQR = Q3 - Q1\n",
    "    lower_bound = Q1 - 1.5 * IQR\n",
    "    upper_bound = Q3 + 1.5 * IQR\n",
    "    return (column >= lower_bound) & (column <= upper_bound)\n",
    "\n",
    "columns_to_filter = ['Spd of Max Gust (km/h)', 'Total Precip (mm)', 'Total Rain (mm)', 'Total Snow (cm)', 'Snow on Grnd (cm)']\n",
    "for col in columns_to_filter:\n",
    "    imputed_weather_data = imputed_weather_data[remove_outliers(imputed_weather_data[col])]"
   ]
  },
  {
   "cell_type": "code",
   "execution_count": 16,
   "metadata": {},
   "outputs": [],
   "source": [
    "# Group the data by County and Year and aggregate the data\n",
    "grouped_df = imputed_weather_data.groupby(['County', 'Year']).agg({\n",
    "    'Max Temp (°C)': ['mean', 'max', 'min', 'std'],\n",
    "    'Min Temp (°C)': ['mean', 'max', 'min', 'std'],\n",
    "    'Mean Temp (°C)': ['mean', 'max', 'min', 'std'],\n",
    "    'Heat Deg Days (°C)': ['mean', 'max', 'min', 'std'],\n",
    "    'Total Rain (mm)': ['mean', 'max', 'min', 'std'],\n",
    "    'Total Snow (cm)': ['mean', 'max', 'min', 'std'],\n",
    "    'Total Precip (mm)': ['mean', 'max', 'min', 'std'],\n",
    "    'Snow on Grnd (cm)': ['mean', 'max', 'min', 'std'],\n",
    "    'Spd of Max Gust (km/h)': ['mean', 'max', 'min', 'std'],\n",
    "    })\n",
    "\n",
    "# Flatten the resulting column names by joining the multi-index columns\n",
    "grouped_df.columns = ['_'.join(col).strip() for col in grouped_df.columns.values]\n",
    "grouped_df = grouped_df.reset_index()"
   ]
  },
  {
   "cell_type": "code",
   "execution_count": 17,
   "metadata": {},
   "outputs": [],
   "source": [
    "# Merge the DataFrames on the \"County\" and \"Year\" columns, then clear all record with no Production\n",
    "merged_df = pd.merge(grouped_df, crop_data, on=[\"County\", \"Year\"])\n",
    "merged_df[\"Yield (kg/Acres seeded)\"] = merged_df.apply(lambda row: (row[\"Sum of Production ('000 tonnes)\"] * 1000) / row[\"Sum of Acres seeded\"] if row[\"Sum of Acres seeded\"] != 0 else 0, axis=1)\n",
    "merged_df = merged_df.drop(merged_df[merged_df[\"Yield (kg/Acres seeded)\"] == 0].index)\n",
    "merged_df = merged_df.drop([\"Sum of Production ('000 tonnes)\", \"Sum of Acres seeded\"], axis=1)\n",
    "merged_df = merged_df.dropna()"
   ]
  },
  {
   "cell_type": "code",
   "execution_count": 18,
   "metadata": {},
   "outputs": [
    {
     "name": "stdout",
     "output_type": "stream",
     "text": [
      "Ensemble of Set 2 Decision Tree and Set 3 SVM - Mean Squared Error: 17333.503876383373\n"
     ]
    }
   ],
   "source": [
    "from sklearn.tree import DecisionTreeRegressor\n",
    "from sklearn.svm import SVR\n",
    "from sklearn.model_selection import cross_val_score, KFold\n",
    "from sklearn.ensemble import VotingRegressor\n",
    "\n",
    "\n",
    "# Remove 'County', 'Product', 'Year' columns\n",
    "df = merged_df.drop(['County', 'Product', 'Year'], axis=1)\n",
    "\n",
    "# Define the attribute sets\n",
    "set1 = ['Max Temp (°C)_mean', 'Max Temp (°C)_min', 'Min Temp (°C)_max', 'Spd of Max Gust (km/h)_max', 'Spd of Max Gust (km/h)_std']\n",
    "set2 = ['Min Temp (°C)_mean', 'Mean Temp (°C)_std', 'Total Rain (mm)_min', 'Total Snow (cm)_max', 'Total Snow (cm)_min', 'Total Precip (mm)_min', 'Snow on Grnd (cm)_max', 'Snow on Grnd (cm)_min', 'Spd of Max Gust (km/h)_min']\n",
    "set3 = set1 + set2\n",
    "\n",
    "def evaluate_ensemble(attributes, model1, model2):\n",
    "    X = df[attributes]\n",
    "    y = df['Yield (kg/Acres seeded)']\n",
    "\n",
    "    ensemble = VotingRegressor([('model1', model1), ('model2', model2)], n_jobs=-1)\n",
    "    ensemble_scores = cross_val_score(ensemble, X, y, cv=KFold(n_splits=10), scoring='neg_mean_squared_error')\n",
    "\n",
    "    return -ensemble_scores.mean()\n",
    "\n",
    "# Decision Tree model of Set 2\n",
    "dt_set2 = DecisionTreeRegressor()\n",
    "\n",
    "# SVM model of Set 3 with specified parameters\n",
    "svm_set3 = SVR(C=10, gamma='auto', kernel='rbf')\n",
    "\n",
    "# Evaluate ensemble of Set 2 Decision Tree and Set 3 SVM\n",
    "ensemble_mse = evaluate_ensemble(set2, dt_set2, svm_set3)\n",
    "print(f\"Ensemble of Set 2 Decision Tree and Set 3 SVM - Mean Squared Error: {ensemble_mse}\")\n"
   ]
  }
 ],
 "metadata": {
  "kernelspec": {
   "display_name": "Python 3",
   "language": "python",
   "name": "python3"
  },
  "language_info": {
   "codemirror_mode": {
    "name": "ipython",
    "version": 3
   },
   "file_extension": ".py",
   "mimetype": "text/x-python",
   "name": "python",
   "nbconvert_exporter": "python",
   "pygments_lexer": "ipython3",
   "version": "3.10.10"
  },
  "orig_nbformat": 4
 },
 "nbformat": 4,
 "nbformat_minor": 2
}
